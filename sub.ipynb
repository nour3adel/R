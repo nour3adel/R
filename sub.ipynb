{
  "cells": [
    {
      "cell_type": "markdown",
      "metadata": {
        "id": "view-in-github",
        "colab_type": "text"
      },
      "source": [
        "<a href=\"https://colab.research.google.com/github/nour3adel/R/blob/main/sub.ipynb\" target=\"_parent\"><img src=\"https://colab.research.google.com/assets/colab-badge.svg\" alt=\"Open In Colab\"/></a>"
      ]
    },
    {
      "cell_type": "markdown",
      "metadata": {
        "id": "tmnSFOsBLFGP"
      },
      "source": [
        "\n",
        "# Generalized Sequential Pattern (GSP) Mining\n",
        "\n",
        "Apriori-based method: GSP (Generalized\n",
        "Sequential Patterns: Srikant & Agrawal) \n"
      ]
    },
    {
      "cell_type": "markdown",
      "metadata": {
        "id": "ZcfXL4HmLFGT"
      },
      "source": [
        "<font color='cyan'> **Steps for Implementing GSP Mining** </font>\n",
        "\n",
        "  Generate frequent events\n",
        "\n",
        " Repeat until no sequences can be generated:\n",
        "> **1-** Generate candidate sequences.\n",
        "\n",
        "> **2-** Candidate Pruning.\n",
        "\n",
        "> **3-** Calculate support.\n",
        "\n",
        "> **4-** Support pruning.\n",
        "\n",
        "\n"
      ]
    },
    {
      "cell_type": "code",
      "execution_count": null,
      "metadata": {
        "id": "ZHICwXjgLFGV"
      },
      "outputs": [],
      "source": [
        "import copy\n",
        "import numpy as np\n",
        "import pandas as pd\n",
        "from operator import neg"
      ]
    },
    {
      "cell_type": "markdown",
      "metadata": {
        "id": "Duhg5JPvLFGW"
      },
      "source": [
        "### Dataset\n",
        "\n",
        "| Seq. ID | Sequence |\n",
        "|:--------------:|--------------:|\n",
        "| 10 | <{bd}{c}{b}> |\n",
        "| 20 | <{bf}{ce}{b}>|\n",
        "| 30 | <{ag}{bf}> |\n",
        "| 40 | <{be}{ce}> |\n",
        "| 50 | <{a}{bd}{b}{c}{b}>|\n"
      ]
    },
    {
      "cell_type": "code",
      "execution_count": null,
      "metadata": {
        "notebookRunGroups": {
          "groupValue": ""
        },
        "id": "h57BCanFLFGX"
      },
      "outputs": [],
      "source": [
        "dataset = [   \n",
        "\n",
        "    [['b','d'], ['c'], ['b']],  \n",
        "    [['b' , 'f'], ['c','e'], ['b']], \n",
        "    [['a', 'g'], ['b','f']], \n",
        "    [['b','e'], ['c','e']],\n",
        "    [['a'], ['b','d'],['b'],['c'],['b']]\n",
        "]"
      ]
    },
    {
      "cell_type": "markdown",
      "metadata": {
        "id": "iWslHiFZLFGY"
      },
      "source": [
        "### Definition of a Sequence\n",
        "\n",
        "A sequence is an ordered list of elements\n",
        "> s = < e1 e2 e3 … >\n",
        "\n",
        "• Each element contains a collection of events\n",
        "(items)\n",
        "> ei = {i1, i2, …, ik}\n",
        "\n",
        "• Length of a sequence, |s|, is given by the\n",
        "number of elements in the sequence\n",
        "\n",
        "• A k-sequence is a sequence that contains k\n",
        "events (items)\n",
        "5\n",
        "\n",
        "***"
      ]
    },
    {
      "cell_type": "markdown",
      "metadata": {
        "id": "FlMlgovTLFGY"
      },
      "source": [
        "### Subsequences\n",
        "•Sequence t is a subsequence of s if each\n",
        "ordered element in t is a subset of an\n",
        "ordered element in s.\n",
        "\n",
        "• Examples:\n",
        "\n",
        "> <{1}{2}> is a subsequence of <{1}{2,3}{4}>\n",
        "\n",
        "> <{1}{4}> is a subsequence of <{1}{2,3}{4}>\n",
        "\n",
        "> But <{1}{2}{3}> is not a subsequence of <{1}{2,3}{4}>"
      ]
    },
    {
      "cell_type": "markdown",
      "metadata": {
        "id": "tpUjbNQ3LFGZ"
      },
      "source": [
        "\n",
        "Sequence A |Sequence B |Is B subsequence of A?\n",
        "-----|-----|----- \n",
        "<{2,4} {3,5,6} {8}>|<{2} {3,6} {8}>|<font color='green'> **Yes** </font>\n",
        "<{2,4} {3,5,6} {8}>|<{2} {8}>|<font color='green'> **Yes**  </font>\n",
        "<{1,2} {3,4}>|<{1} {2}>|<font color='red'> **No**  </font>\n",
        "<{2,4} {2,4} {2,5}>|<{2} {4}>|<font color='green'> **Yes**  </font>"
      ]
    },
    {
      "cell_type": "markdown",
      "metadata": {
        "id": "CiJ_Ofj4LFGa"
      },
      "source": [
        "## Sequence Length"
      ]
    },
    {
      "cell_type": "code",
      "execution_count": null,
      "metadata": {
        "id": "80mfcZJrLFGa"
      },
      "outputs": [],
      "source": [
        "def sequence_length(sequence):\n",
        " \n",
        "    return sum(len(i) for i in sequence)"
      ]
    },
    {
      "cell_type": "code",
      "execution_count": null,
      "metadata": {
        "id": "sLA32NscLFGb",
        "outputId": "ee0cd169-07aa-486f-e5ce-2231047687dc"
      },
      "outputs": [
        {
          "data": {
            "text/plain": [
              "7"
            ]
          },
          "execution_count": 529,
          "metadata": {},
          "output_type": "execute_result"
        }
      ],
      "source": [
        "sequence_length([['a'], ['b', 'c'], ['a'], ['b', 'c', 'd']])"
      ]
    },
    {
      "cell_type": "code",
      "execution_count": null,
      "metadata": {
        "id": "3aWyffC1LFGc"
      },
      "outputs": [],
      "source": [
        "def supports(sequence, cand_seq):\n",
        "    for idx, event in enumerate(sequence):\n",
        "        i = 0\n",
        "        \n",
        "        if set(event[1] if isinstance(event, tuple) else event).issuperset(cand_seq[i]):            \n",
        "            i += 1\n",
        "        \n",
        "        # special case if cand_seq is a sequence of one element\n",
        "        if i == len(cand_seq):\n",
        "                return True\n",
        "           \n",
        "\n",
        "        for t, itemset in (sequence[idx + 1:] if isinstance(sequence[idx], tuple) \n",
        "                               else enumerate(sequence[idx + 1:], start=idx + 1)):\n",
        "\n",
        "                \n",
        "                if set(itemset).issuperset(cand_seq[i]):\n",
        "                    i += 1\n",
        "\n",
        "                # the sequence satisfies all the time constraints\n",
        "                if i == len(cand_seq):\n",
        "                    return True\n",
        "    return False"
      ]
    },
    {
      "cell_type": "code",
      "execution_count": null,
      "metadata": {
        "id": "rF4LB9HhLFGc"
      },
      "outputs": [],
      "source": [
        "sequence = [[1, 3], [3, 4], [4], [5], [6, 7], [8]] "
      ]
    },
    {
      "cell_type": "code",
      "execution_count": null,
      "metadata": {
        "id": "KlVwB2HWLFGc",
        "outputId": "782decc1-fcb0-4a7b-eb62-1d07b57251fe"
      },
      "outputs": [
        {
          "name": "stdout",
          "output_type": "stream",
          "text": [
            "True\n",
            "True\n",
            "False\n"
          ]
        }
      ],
      "source": [
        "print(supports(sequence, [[3], [4]]))\n",
        "print(supports(sequence, [[3], [6]]))\n",
        "print(supports(sequence, [[1,9], [6]]))"
      ]
    },
    {
      "cell_type": "markdown",
      "metadata": {
        "id": "mEWhHk8kLFGd"
      },
      "source": [
        "# Support Count"
      ]
    },
    {
      "cell_type": "code",
      "execution_count": null,
      "metadata": {
        "id": "g5BRws1NLFGd"
      },
      "outputs": [],
      "source": [
        "def count_support(dataset, cand_seq):\n",
        "  \n",
        "    return sum(1 for seq in dataset if supports(seq, cand_seq))\n",
        "    "
      ]
    },
    {
      "cell_type": "code",
      "execution_count": null,
      "metadata": {
        "jupyter": {
          "outputs_hidden": false
        },
        "id": "5rGED5R7LFGd",
        "outputId": "9071eaa6-aa04-4b04-8598-36029a0b5c21"
      },
      "outputs": [
        {
          "data": {
            "text/plain": [
              "5"
            ]
          },
          "execution_count": 534,
          "metadata": {},
          "output_type": "execute_result"
        }
      ],
      "source": [
        "count_support(dataset, [['b']])"
      ]
    },
    {
      "cell_type": "code",
      "execution_count": null,
      "metadata": {
        "jupyter": {
          "outputs_hidden": false
        },
        "id": "Cqqy3oCqLFGe",
        "outputId": "40810b29-5b38-4aef-96b2-8f968e6888e6"
      },
      "outputs": [
        {
          "data": {
            "text/plain": [
              "0"
            ]
          },
          "execution_count": 535,
          "metadata": {},
          "output_type": "execute_result"
        }
      ],
      "source": [
        "count_support(dataset, [['a'], ['b', 'c']])"
      ]
    },
    {
      "cell_type": "markdown",
      "metadata": {
        "id": "bFLnFhT9LFGe"
      },
      "source": [
        " ### Generate candidate sequences.\n",
        " \n",
        "\n",
        " \n",
        "    Generates one candidate of length k from two candidates of length (k-1)\n",
        "\n"
      ]
    },
    {
      "cell_type": "code",
      "execution_count": null,
      "metadata": {
        "id": "YYykYi7BLFGe"
      },
      "outputs": [],
      "source": [
        "def gen_cands_for_pair(cand1, cand2):\n",
        "    \n",
        "    cand1_clone = copy.deepcopy(cand1)\n",
        "    cand2_clone = copy.deepcopy(cand2)\n",
        "    # drop the leftmost item from cand1:\n",
        "    \n",
        "    if len(cand1[0]) == 1:\n",
        "        cand1_clone.pop(0)\n",
        "    else:\n",
        "        cand1_clone[0] = cand1_clone[0][1:]\n",
        "    # drop the rightmost item from cand2:\n",
        "    if len(cand2[-1]) == 1:\n",
        "        cand2_clone.pop(-1)\n",
        "    else:\n",
        "        cand2_clone[-1] = cand2_clone[-1][:-1]\n",
        "    \n",
        "    # if the result is not the same, then we dont need to join\n",
        "    if not cand1_clone == cand2_clone:\n",
        "        return []\n",
        "    else:\n",
        "        \n",
        "        join = copy.deepcopy(cand1)\n",
        "        if len(cand2[-1]) == 1:\n",
        "            join.append(cand2[-1])\n",
        "        else:\n",
        "            join[-1].extend([cand2[-1][-1]])\n",
        "        return join"
      ]
    },
    {
      "cell_type": "code",
      "execution_count": null,
      "metadata": {
        "id": "vDQjV2InLFGf",
        "outputId": "172d3893-d4c6-4076-ac5f-09878565bd38"
      },
      "outputs": [
        {
          "data": {
            "text/plain": [
              "[['a'], ['b', 'c'], ['d', 'e']]"
            ]
          },
          "execution_count": 537,
          "metadata": {},
          "output_type": "execute_result"
        }
      ],
      "source": [
        "candA = [['a'], ['b', 'c'], ['d']]\n",
        "candB = [['b', 'c'], ['d', 'e']]\n",
        "gen_cands_for_pair(candA, candB)\n"
      ]
    },
    {
      "cell_type": "code",
      "execution_count": null,
      "metadata": {
        "id": "lj0oxhCVLFGf",
        "outputId": "daf6375a-70e6-4ffc-a1a7-60a00b005f4e"
      },
      "outputs": [
        {
          "data": {
            "text/plain": [
              "[]"
            ]
          },
          "execution_count": 538,
          "metadata": {},
          "output_type": "execute_result"
        }
      ],
      "source": [
        "candA = [['a'], ['b', 'c'], ['d']]\n",
        "candD = [['a'], ['b', 'c'], ['e']]\n",
        "gen_cands_for_pair(candA, candD)"
      ]
    },
    {
      "cell_type": "markdown",
      "metadata": {
        "id": "gBKCbgDKLFGf"
      },
      "source": [
        " ### Generate candidate sequences.\n",
        " \n",
        "\n",
        " \n",
        "    Generates the set of candidates of length k from the set of frequent sequences with length (k-1)"
      ]
    },
    {
      "cell_type": "code",
      "execution_count": null,
      "metadata": {
        "id": "9sHA0fNULFGf"
      },
      "outputs": [],
      "source": [
        "def gen_cands(last_lvl_cands):\n",
        "    \n",
        "    k = sequence_length(last_lvl_cands[0]) + 1\n",
        "    if k == 2:\n",
        "        flat_short_cands = [item for sublist2 in last_lvl_cands for sublist1 in sublist2 for item in sublist1]\n",
        "        result = [[[a, b]] for a in flat_short_cands for b in flat_short_cands if b > a]\n",
        "        result.extend([[[a], [b]] for a in flat_short_cands for b in flat_short_cands])\n",
        "        return result\n",
        "    else:\n",
        "        cands = []\n",
        "        for i in range(0, len(last_lvl_cands)):\n",
        "            for j in range(0, len(last_lvl_cands)):\n",
        "                new_cand = gen_cands_for_pair(last_lvl_cands[i], last_lvl_cands[j])\n",
        "                if not new_cand == []:\n",
        "                    cands.append(new_cand)\n",
        "        cands.sort()\n",
        "        return cands"
      ]
    },
    {
      "cell_type": "markdown",
      "metadata": {
        "id": "8hT1J-A7LFGg"
      },
      "source": [
        "Lets assume we know the frequent sequences of level 2:"
      ]
    },
    {
      "cell_type": "code",
      "execution_count": null,
      "metadata": {
        "id": "-BSbQH_aLFGg"
      },
      "outputs": [],
      "source": [
        "last_lvl_freq_patterns = [\n",
        "    \n",
        "    [['a', 'b']], \n",
        "    [['b', 'c']], \n",
        "    [['a'], ['b']], \n",
        "    [['a'], ['c']], \n",
        "    [['b'], ['c']], \n",
        "    [['c'], ['b']], \n",
        "    [['c'], ['c']]\n",
        "]"
      ]
    },
    {
      "cell_type": "markdown",
      "metadata": {
        "id": "hv3IUTTCLFGg"
      },
      "source": [
        "Then we can compute the generate candidates for level 3:"
      ]
    },
    {
      "cell_type": "code",
      "execution_count": null,
      "metadata": {
        "id": "IxPtaCvfLFGg",
        "outputId": "23b17f8f-eb73-4839-c9ed-c23c068059a3"
      },
      "outputs": [
        {
          "data": {
            "text/plain": [
              "[[['a'], ['b'], ['c']],\n",
              " [['a'], ['b', 'c']],\n",
              " [['a'], ['c'], ['b']],\n",
              " [['a'], ['c'], ['c']],\n",
              " [['a', 'b'], ['c']],\n",
              " [['a', 'b', 'c']],\n",
              " [['b'], ['c'], ['b']],\n",
              " [['b'], ['c'], ['c']],\n",
              " [['b', 'c'], ['b']],\n",
              " [['b', 'c'], ['c']],\n",
              " [['c'], ['b'], ['c']],\n",
              " [['c'], ['b', 'c']],\n",
              " [['c'], ['c'], ['b']],\n",
              " [['c'], ['c'], ['c']]]"
            ]
          },
          "execution_count": 541,
          "metadata": {},
          "output_type": "execute_result"
        }
      ],
      "source": [
        "new_cands = gen_cands(last_lvl_freq_patterns)\n",
        "new_cands"
      ]
    },
    {
      "cell_type": "code",
      "execution_count": null,
      "metadata": {
        "id": "EV2HiNn-LFGh"
      },
      "outputs": [],
      "source": [
        "def gen_contiguous_direct_subsequences(sequence):\n",
        "    \n",
        "    result = []\n",
        "    for i, itemset in enumerate(sequence):\n",
        "        # first or last element\n",
        "        if i == 0 or i == len(sequence) - 1:\n",
        "            if len(itemset) == 1:\n",
        "                seq_clone = copy.deepcopy(sequence)\n",
        "                seq_clone.pop(i)\n",
        "                result.append(seq_clone)\n",
        "            else:\n",
        "                for j in range(len(itemset)):\n",
        "                    seq_clone = copy.deepcopy(sequence)\n",
        "                    seq_clone[i].pop(j)\n",
        "                    result.append(seq_clone)\n",
        "        else:  # middle element\n",
        "            if len(itemset) > 1:\n",
        "                for j in range(len(itemset)):\n",
        "                    seq_clone = copy.deepcopy(sequence)\n",
        "                    seq_clone[i].pop(j)\n",
        "                    result.append(seq_clone)\n",
        "    return result"
      ]
    },
    {
      "cell_type": "markdown",
      "metadata": {
        "id": "loMnvH6wLFGh"
      },
      "source": [
        "# Candidate Pruning."
      ]
    },
    {
      "cell_type": "code",
      "execution_count": null,
      "metadata": {
        "id": "5vvWZiYWLFGh"
      },
      "outputs": [],
      "source": [
        "def prune_cands(last_lvl_cands, cands_gen):\n",
        "       \n",
        "    return [cand for cand in cands_gen if all(x in last_lvl_cands for x in (gen_contiguous_direct_subsequences(cand)))]"
      ]
    },
    {
      "cell_type": "code",
      "execution_count": null,
      "metadata": {
        "id": "6f4SudWWLFGh",
        "outputId": "c8960727-7db2-4dd4-f32a-61d17508add2"
      },
      "outputs": [
        {
          "data": {
            "text/plain": [
              "[[['a'], ['b'], ['c']],\n",
              " [['a'], ['b', 'c']],\n",
              " [['a'], ['c'], ['b']],\n",
              " [['a'], ['c'], ['c']],\n",
              " [['a', 'b'], ['c']],\n",
              " [['b'], ['c'], ['b']],\n",
              " [['b'], ['c'], ['c']],\n",
              " [['b', 'c'], ['c']],\n",
              " [['c'], ['b'], ['c']],\n",
              " [['c'], ['b', 'c']],\n",
              " [['c'], ['c'], ['b']],\n",
              " [['c'], ['c'], ['c']]]"
            ]
          },
          "execution_count": 544,
          "metadata": {},
          "output_type": "execute_result"
        }
      ],
      "source": [
        "cands_pruned = prune_cands(last_lvl_freq_patterns, new_cands)\n",
        "cands_pruned"
      ]
    },
    {
      "cell_type": "code",
      "execution_count": null,
      "metadata": {
        "jupyter": {
          "outputs_hidden": false
        },
        "id": "hEX8lilwLFGi"
      },
      "outputs": [],
      "source": [
        "min_sup = 0.4\n",
        "def gsp(dataset, min_sup, verbose=False):\n",
        "    \n",
        "    overall = []\n",
        "    min_sup *= len(dataset)\n",
        "    # make the first pass over the sequence database to yield all the 1-element frequent subsequences\n",
        "    items = sorted(set([item for sequence in dataset\n",
        "                        for event in sequence\n",
        "                        for item in (event[1] if isinstance(event, tuple) else event)]))\n",
        "    single_item_sequences = [[[item]] for item in items]\n",
        "    single_item_counts = [(s, count_support(dataset, s)) for s in single_item_sequences]\n",
        "    single_item_counts = [(i, count) for i, count in single_item_counts if count >= min_sup]\n",
        "    overall.append(single_item_counts)\n",
        "    if verbose > 0:\n",
        "        print('Result, lvl 1: ' + str(overall[0]))\n",
        "        print('--------------------------------------------------------------------------------------------------')\n",
        "    k = 1\n",
        "    while overall[k - 1]:\n",
        "        # 1. candidate generation: merge pairs of frequent subsequences found in the \n",
        "        # (k-1)th pass to generate candidate sequences that contain k items \n",
        "        last_lvl_cands = [x[0] for x in overall[k - 1]]\n",
        "        cands_gen = gen_cands(last_lvl_cands)\n",
        "        # 2. candidate pruning: prune candidate k-sequences that contain infrequent \n",
        "        # (contiguous) (k-1)-subsequences (Apriori principle)\n",
        "        cands_pruned = prune_cands(last_lvl_cands, cands_gen)\n",
        "        # 3. support counting: make a new pass over the sequence database to find \n",
        "        # the support for these candidate sequences\n",
        "        cands_counts = [(s, count_support(dataset, s)) for s in cands_pruned]\n",
        "        # 4. candidate elimination: eliminate candidate k-sequences whose actual \n",
        "        # support is less than `minsup`\n",
        "        result_lvl = [(i, count) for i, count in cands_counts if count >= min_sup]\n",
        "        if verbose > 1:\n",
        "            \n",
        "            print('Result, LeveL ' + str(k + 1) + ': ' + str(result_lvl))\n",
        "            print('--------------------------------------------------------------------------------------------------')   \n",
        "            if verbose > 1:\n",
        "                print('Candidates generated, lvl ' + str(k + 1) + ': ' + str(cands_gen))\n",
        "                print('\\n') \n",
        "                print('Candidates pruned, lvl ' + str(k + 1) + ': ' + str(cands_pruned))\n",
        "                \n",
        "        overall.append(result_lvl)\n",
        "        k += 1\n",
        "    # \"flatten\" overall\n",
        "    overall = overall[:-1]\n",
        "    overall = [item for sublist in overall for item in sublist]\n",
        "    overall.sort(key=lambda tup: (tup[1], neg(sequence_length(tup[0]))), reverse=True)\n",
        "    return overall"
      ]
    },
    {
      "cell_type": "code",
      "execution_count": null,
      "metadata": {
        "id": "UKMoxCKmLFGi",
        "outputId": "a68258a1-ce46-4691-e611-5f225aa00e95"
      },
      "outputs": [
        {
          "name": "stdout",
          "output_type": "stream",
          "text": [
            "Result, lvl 1: [([['a']], 2), ([['b']], 5), ([['c']], 4), ([['d']], 2), ([['e']], 2), ([['f']], 2)]\n",
            "--------------------------------------------------------------------------------------------------\n",
            "Result, LeveL 2: [([['b', 'd']], 2), ([['b', 'f']], 2), ([['c', 'e']], 2), ([['a'], ['b']], 2), ([['b'], ['b']], 3), ([['b'], ['c']], 4), ([['b'], ['e']], 2), ([['c'], ['b']], 3), ([['d'], ['b']], 2), ([['d'], ['c']], 2)]\n",
            "--------------------------------------------------------------------------------------------------\n",
            "Candidates generated, lvl 2: [[['a', 'b']], [['a', 'c']], [['a', 'd']], [['a', 'e']], [['a', 'f']], [['b', 'c']], [['b', 'd']], [['b', 'e']], [['b', 'f']], [['c', 'd']], [['c', 'e']], [['c', 'f']], [['d', 'e']], [['d', 'f']], [['e', 'f']], [['a'], ['a']], [['a'], ['b']], [['a'], ['c']], [['a'], ['d']], [['a'], ['e']], [['a'], ['f']], [['b'], ['a']], [['b'], ['b']], [['b'], ['c']], [['b'], ['d']], [['b'], ['e']], [['b'], ['f']], [['c'], ['a']], [['c'], ['b']], [['c'], ['c']], [['c'], ['d']], [['c'], ['e']], [['c'], ['f']], [['d'], ['a']], [['d'], ['b']], [['d'], ['c']], [['d'], ['d']], [['d'], ['e']], [['d'], ['f']], [['e'], ['a']], [['e'], ['b']], [['e'], ['c']], [['e'], ['d']], [['e'], ['e']], [['e'], ['f']], [['f'], ['a']], [['f'], ['b']], [['f'], ['c']], [['f'], ['d']], [['f'], ['e']], [['f'], ['f']]]\n",
            "\n",
            "\n",
            "Candidates pruned, lvl 2: [[['a', 'b']], [['a', 'c']], [['a', 'd']], [['a', 'e']], [['a', 'f']], [['b', 'c']], [['b', 'd']], [['b', 'e']], [['b', 'f']], [['c', 'd']], [['c', 'e']], [['c', 'f']], [['d', 'e']], [['d', 'f']], [['e', 'f']], [['a'], ['a']], [['a'], ['b']], [['a'], ['c']], [['a'], ['d']], [['a'], ['e']], [['a'], ['f']], [['b'], ['a']], [['b'], ['b']], [['b'], ['c']], [['b'], ['d']], [['b'], ['e']], [['b'], ['f']], [['c'], ['a']], [['c'], ['b']], [['c'], ['c']], [['c'], ['d']], [['c'], ['e']], [['c'], ['f']], [['d'], ['a']], [['d'], ['b']], [['d'], ['c']], [['d'], ['d']], [['d'], ['e']], [['d'], ['f']], [['e'], ['a']], [['e'], ['b']], [['e'], ['c']], [['e'], ['d']], [['e'], ['e']], [['e'], ['f']], [['f'], ['a']], [['f'], ['b']], [['f'], ['c']], [['f'], ['d']], [['f'], ['e']], [['f'], ['f']]]\n",
            "Result, LeveL 3: [([['b'], ['c'], ['b']], 3), ([['b'], ['c', 'e']], 2), ([['b', 'd'], ['b']], 2), ([['b', 'd'], ['c']], 2), ([['d'], ['c'], ['b']], 2)]\n",
            "--------------------------------------------------------------------------------------------------\n",
            "Candidates generated, lvl 3: [[['a'], ['b'], ['b']], [['a'], ['b'], ['c']], [['a'], ['b'], ['e']], [['a'], ['b', 'd']], [['a'], ['b', 'f']], [['b'], ['b'], ['b']], [['b'], ['b'], ['c']], [['b'], ['b'], ['e']], [['b'], ['b', 'd']], [['b'], ['b', 'f']], [['b'], ['c'], ['b']], [['b'], ['c', 'e']], [['b', 'd'], ['b']], [['b', 'd'], ['c']], [['c'], ['b'], ['b']], [['c'], ['b'], ['c']], [['c'], ['b'], ['e']], [['c'], ['b', 'd']], [['c'], ['b', 'f']], [['d'], ['b'], ['b']], [['d'], ['b'], ['c']], [['d'], ['b'], ['e']], [['d'], ['b', 'd']], [['d'], ['b', 'f']], [['d'], ['c'], ['b']], [['d'], ['c', 'e']]]\n",
            "\n",
            "\n",
            "Candidates pruned, lvl 3: [[['a'], ['b'], ['b']], [['a'], ['b'], ['c']], [['a'], ['b'], ['e']], [['b'], ['b'], ['b']], [['b'], ['b'], ['c']], [['b'], ['b'], ['e']], [['b'], ['c'], ['b']], [['b'], ['c', 'e']], [['b', 'd'], ['b']], [['b', 'd'], ['c']], [['c'], ['b'], ['b']], [['c'], ['b'], ['c']], [['c'], ['b'], ['e']], [['d'], ['b'], ['b']], [['d'], ['b'], ['c']], [['d'], ['b'], ['e']], [['d'], ['c'], ['b']]]\n",
            "Result, LeveL 4: [([['b', 'd'], ['c'], ['b']], 2)]\n",
            "--------------------------------------------------------------------------------------------------\n",
            "Candidates generated, lvl 4: [[['b', 'd'], ['c'], ['b']]]\n",
            "\n",
            "\n",
            "Candidates pruned, lvl 4: [[['b', 'd'], ['c'], ['b']]]\n",
            "Result, LeveL 5: []\n",
            "--------------------------------------------------------------------------------------------------\n",
            "Candidates generated, lvl 5: []\n",
            "\n",
            "\n",
            "Candidates pruned, lvl 5: []\n"
          ]
        },
        {
          "data": {
            "text/plain": [
              "[([['b']], 5),\n",
              " ([['c']], 4),\n",
              " ([['b'], ['c']], 4),\n",
              " ([['b'], ['b']], 3),\n",
              " ([['c'], ['b']], 3),\n",
              " ([['b'], ['c'], ['b']], 3),\n",
              " ([['a']], 2),\n",
              " ([['d']], 2),\n",
              " ([['e']], 2),\n",
              " ([['f']], 2),\n",
              " ([['b', 'd']], 2),\n",
              " ([['b', 'f']], 2),\n",
              " ([['c', 'e']], 2),\n",
              " ([['a'], ['b']], 2),\n",
              " ([['b'], ['e']], 2),\n",
              " ([['d'], ['b']], 2),\n",
              " ([['d'], ['c']], 2),\n",
              " ([['b'], ['c', 'e']], 2),\n",
              " ([['b', 'd'], ['b']], 2),\n",
              " ([['b', 'd'], ['c']], 2),\n",
              " ([['d'], ['c'], ['b']], 2),\n",
              " ([['b', 'd'], ['c'], ['b']], 2)]"
            ]
          },
          "execution_count": 546,
          "metadata": {},
          "output_type": "execute_result"
        }
      ],
      "source": [
        "gsp(dataset, min_sup=0.4, verbose=2)"
      ]
    },
    {
      "cell_type": "markdown",
      "metadata": {
        "id": "RCZhPtEiLFGj"
      },
      "source": [
        "### LeveL 1 (Frequent 1-sequences)\n",
        "\n",
        "| Event | count |\n",
        "|:------------:|-----------:|\n",
        "| a | 2 |\n",
        "| b | 5|\n",
        "| c | 4 |\n",
        "| d | 2|\n",
        "| e | 2|\n",
        "| f | 2|\n",
        "\n",
        "### LeveL 2 (Frequent 2-sequences)\n",
        "\n",
        "| Seq | count |\n",
        "|:------------:|-----------:|\n",
        "| {b}{b} | 3 |\n",
        "| {a}{b} | 2|\n",
        "| {b}{c}| 4 |\n",
        "| {c}{b} | 3|\n",
        "| {bd} | 2|\n",
        "| {d}{b} | 2|\n",
        "| {a}{b} | 2|\n",
        "| {b}{e} | 2|\n",
        "| {d}{c} | 2|\n",
        "| {ce} | 2|\n",
        "\n",
        "### LeveL 3 (Frequent 3-sequences)\n",
        "\n",
        "| Event | count |\n",
        "|:------------:|-----------:|\n",
        "| {b}{c}{b} | 3 |\n",
        "| {b}{ce} | 2|\n",
        "| {bd}{b} | 2 |\n",
        "| {bd}{c} | 2|\n",
        "| {d}{c}{b} | 2|\n",
        "\n",
        "\n",
        "### LeveL 4 (Frequent 4-sequences)\n",
        "\n",
        "| Event | count |\n",
        "|:------------:|-----------:|\n",
        "| {bd}{c}{b} | 2 |\n",
        "\n"
      ]
    }
  ],
  "metadata": {
    "kernelspec": {
      "display_name": "Python 3.10.3 64-bit",
      "language": "python",
      "name": "python3"
    },
    "language_info": {
      "codemirror_mode": {
        "name": "ipython",
        "version": 3
      },
      "file_extension": ".py",
      "mimetype": "text/x-python",
      "name": "python",
      "nbconvert_exporter": "python",
      "pygments_lexer": "ipython3",
      "version": "3.10.3"
    },
    "vscode": {
      "interpreter": {
        "hash": "43e4d72c8ad61331984bc36f87d846bb73452d1c2c0cb0d0679bd7cf00b5eb21"
      }
    },
    "colab": {
      "provenance": [],
      "include_colab_link": true
    }
  },
  "nbformat": 4,
  "nbformat_minor": 0
}